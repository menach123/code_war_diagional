{
 "cells": [
  {
   "cell_type": "markdown",
   "metadata": {
    "colab_type": "text",
    "id": "w4Xnt-62g8K_"
   },
   "source": [
    "### <a href=https://www.codewars.com/kata/5592fc599a7f40adac0000a8/train/python>Diagonals sum</a>\n",
    "\n",
    "Create a function that receives a (square) matrix and calculates the sum of both diagonals (main and secondary)\n",
    "\n",
    "> \"Matrix = array of n length whose elements are n length arrays of integers.\"\n",
    "\n",
    "3x3 example:\n",
    "```\n",
    "sum_diagonals([\n",
    "  [ 1, 2, 3 ],\n",
    "  [ 4, 5, 6 ],\n",
    "  [ 7, 8, 9 ]\n",
    "] ) == 30 # 1 + 5 + 9 + 3 + 5 + 7\n",
    "```"
   ]
  },
  {
   "cell_type": "code",
   "execution_count": 1,
   "metadata": {
    "colab": {},
    "colab_type": "code",
    "executionInfo": {
     "elapsed": 865,
     "status": "ok",
     "timestamp": 1597250774369,
     "user": {
      "displayName": "Mathew Menachery",
      "photoUrl": "https://lh3.googleusercontent.com/a-/AOh14GiHPiWJ_3oXeFpjhk78bPH6GVuao5foMjJCZq9aZQ=s64",
      "userId": "03586594763766489144"
     },
     "user_tz": 240
    },
    "id": "hgNHFMq9hHqG"
   },
   "outputs": [],
   "source": [
    "square_matrix = [\n",
    "  [ 1, 2, 3 ],\n",
    "  [ 4, 5, 6 ],\n",
    "  [ 7, 8, 9 ]\n",
    "]"
   ]
  },
  {
   "cell_type": "code",
   "execution_count": 2,
   "metadata": {
    "colab": {
     "base_uri": "https://localhost:8080/",
     "height": 34
    },
    "colab_type": "code",
    "executionInfo": {
     "elapsed": 828,
     "status": "ok",
     "timestamp": 1597250838438,
     "user": {
      "displayName": "Mathew Menachery",
      "photoUrl": "https://lh3.googleusercontent.com/a-/AOh14GiHPiWJ_3oXeFpjhk78bPH6GVuao5foMjJCZq9aZQ=s64",
      "userId": "03586594763766489144"
     },
     "user_tz": 240
    },
    "id": "DJQI4-Q0kIXc",
    "outputId": "0fbf306c-ef5e-4841-a5ec-d62df2cf31de"
   },
   "outputs": [
    {
     "data": {
      "text/plain": [
       "3"
      ]
     },
     "execution_count": 2,
     "metadata": {},
     "output_type": "execute_result"
    }
   ],
   "source": [
    "len(square_matrix)"
   ]
  },
  {
   "cell_type": "code",
   "execution_count": 3,
   "metadata": {
    "colab": {
     "base_uri": "https://localhost:8080/",
     "height": 123
    },
    "colab_type": "code",
    "executionInfo": {
     "elapsed": 829,
     "status": "ok",
     "timestamp": 1597250966045,
     "user": {
      "displayName": "Mathew Menachery",
      "photoUrl": "https://lh3.googleusercontent.com/a-/AOh14GiHPiWJ_3oXeFpjhk78bPH6GVuao5foMjJCZq9aZQ=s64",
      "userId": "03586594763766489144"
     },
     "user_tz": 240
    },
    "id": "vBg67e2SkWpJ",
    "outputId": "4b722250-3c3b-4a48-baf9-091352cec827"
   },
   "outputs": [
    {
     "name": "stdout",
     "output_type": "stream",
     "text": [
      "1\n",
      "5\n",
      "9\n",
      "3\n",
      "5\n",
      "7\n"
     ]
    }
   ],
   "source": [
    "for i in range(len(square_matrix)):\n",
    "    print(square_matrix[i][i])\n",
    "\n",
    "for i in range(len(square_matrix)):\n",
    "    print(square_matrix[i][(i+1)*-1])\n"
   ]
  },
  {
   "cell_type": "code",
   "execution_count": 4,
   "metadata": {
    "colab": {},
    "colab_type": "code",
    "executionInfo": {
     "elapsed": 805,
     "status": "ok",
     "timestamp": 1597251117869,
     "user": {
      "displayName": "Mathew Menachery",
      "photoUrl": "https://lh3.googleusercontent.com/a-/AOh14GiHPiWJ_3oXeFpjhk78bPH6GVuao5foMjJCZq9aZQ=s64",
      "userId": "03586594763766489144"
     },
     "user_tz": 240
    },
    "id": "7AiUMZmDkn1N"
   },
   "outputs": [],
   "source": [
    "def sum_diagonals(matrix):\n",
    "    \n",
    "    return sum([matrix[i][i]+ matrix[i][(i+ 1)* -1] for i in range(len(matrix))])"
   ]
  },
  {
   "cell_type": "code",
   "execution_count": 5,
   "metadata": {
    "colab": {
     "base_uri": "https://localhost:8080/",
     "height": 34
    },
    "colab_type": "code",
    "executionInfo": {
     "elapsed": 896,
     "status": "ok",
     "timestamp": 1597251131335,
     "user": {
      "displayName": "Mathew Menachery",
      "photoUrl": "https://lh3.googleusercontent.com/a-/AOh14GiHPiWJ_3oXeFpjhk78bPH6GVuao5foMjJCZq9aZQ=s64",
      "userId": "03586594763766489144"
     },
     "user_tz": 240
    },
    "id": "TlHQA1K7ld3o",
    "outputId": "932ef86e-caf3-4908-8b00-4e9623fa4246"
   },
   "outputs": [
    {
     "data": {
      "text/plain": [
       "30"
      ]
     },
     "execution_count": 5,
     "metadata": {},
     "output_type": "execute_result"
    }
   ],
   "source": [
    "sum_diagonals(square_matrix)"
   ]
  }
 ],
 "metadata": {
  "colab": {
   "authorship_tag": "ABX9TyNIEYhUoS7qacqNK6ShV4bl",
   "name": "index.ipynb",
   "provenance": []
  },
  "kernelspec": {
   "display_name": "Python 3",
   "language": "python",
   "name": "python3"
  },
  "language_info": {
   "codemirror_mode": {
    "name": "ipython",
    "version": 3
   },
   "file_extension": ".py",
   "mimetype": "text/x-python",
   "name": "python",
   "nbconvert_exporter": "python",
   "pygments_lexer": "ipython3",
   "version": "3.6.6"
  }
 },
 "nbformat": 4,
 "nbformat_minor": 1
}
